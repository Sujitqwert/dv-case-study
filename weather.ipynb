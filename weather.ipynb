{
  "nbformat": 4,
  "nbformat_minor": 0,
  "metadata": {
    "colab": {
      "provenance": [],
      "authorship_tag": "ABX9TyPNldomkHQKGafUx7tOOska",
      "include_colab_link": true
    },
    "kernelspec": {
      "name": "python3",
      "display_name": "Python 3"
    },
    "language_info": {
      "name": "python"
    }
  },
  "cells": [
    {
      "cell_type": "markdown",
      "metadata": {
        "id": "view-in-github",
        "colab_type": "text"
      },
      "source": [
        "<a href=\"https://colab.research.google.com/github/Sujitqwert/dv-case-study/blob/main/weather.ipynb\" target=\"_parent\"><img src=\"https://colab.research.google.com/assets/colab-badge.svg\" alt=\"Open In Colab\"/></a>"
      ]
    },
    {
      "cell_type": "code",
      "execution_count": 1,
      "metadata": {
        "colab": {
          "base_uri": "https://localhost:8080/",
          "height": 140
        },
        "id": "fUZML2PAiivF",
        "outputId": "9e9d07e0-4193-46ed-a61a-9eeb675e007d"
      },
      "outputs": [
        {
          "output_type": "error",
          "ename": "SyntaxError",
          "evalue": "ignored",
          "traceback": [
            "\u001b[0;36m  File \u001b[0;32m\"<ipython-input-1-ce8c6b65df83>\"\u001b[0;36m, line \u001b[0;32m7\u001b[0m\n\u001b[0;31m    ​\u001b[0m\n\u001b[0m    ^\u001b[0m\n\u001b[0;31mSyntaxError\u001b[0m\u001b[0;31m:\u001b[0m invalid non-printable character U+200B\n"
          ]
        }
      ],
      "source": [
        "!pip install seaborn pandas\n",
        "import pandas as pd\n",
        "import seaborn as sns\n",
        "import matplotlib.pyplot as plt\n",
        "# Load the dataset\n",
        "data = pd.read_csv(\"/content/789.csv\")  # Replace with the actual file path or DataFrame\n",
        "​\n",
        "# Display the first few rows of the dataset to understand its structure\n",
        "print(data.head())\n",
        "# Create line graphs for temperature trends over time\n",
        "sns.set(style=\"whitegrid\")\n",
        "plt.figure(figsize=(12, 6))\n",
        "sns.lineplot(data=data, x=\"Date\", y=\"Temperature (°C)\", hue=\"Location\", marker=\"o\")\n",
        "plt.title(\"Temperature Trends Over Time\")\n",
        "plt.xlabel(\"Date\")\n",
        "plt.ylabel(\"Temperature (°C)\")\n",
        "plt.xticks(rotation=45)\n",
        "plt.show()\n",
        "# Create histograms for temperature, wind speed, and precipitation\n",
        "plt.figure(figsize=(12, 6))\n",
        "sns.histplot(data=data, x=\"Temperature (°C)\", kde=True, hue=\"Location\", common_norm=False)\n",
        "plt.title(\"Temperature Distribution\")\n",
        "plt.xlabel(\"Temperature (°C)\")\n",
        "plt.ylabel(\"Density\")\n",
        "plt.show()\n",
        "​\n",
        "plt.figure(figsize=(12, 6))\n",
        "sns.histplot(data=data, x=\"Wind Speed (km/h)\", kde=True, hue=\"Location\", common_norm=False)\n",
        "plt.title(\"Wind Speed Distribution\")\n",
        "plt.xlabel(\"Wind Speed (km/h)\")\n",
        "plt.ylabel(\"Density\")\n",
        "plt.show()\n",
        "​\n",
        "plt.figure(figsize=(12, 6))\n",
        "sns.histplot(data=data, x=\"Precipitation (mm)\", kde=True, hue=\"Location\", common_norm=False)\n",
        "plt.title(\"Precipitation Distribution\")\n",
        "plt.xlabel(\"Precipitation (mm)\")\n",
        "plt.ylabel(\"Density\")\n",
        "plt.show()\n",
        "# Create a scatter plot for temperature vs. wind speed\n",
        "plt.figure(figsize=(10, 6))\n",
        "sns.scatterplot(data=data, x=\"Temperature (°C)\", y=\"Wind Speed (km/h)\", hue=\"Location\", style=\"Location\")\n",
        "plt.title(\"Temperature vs. Wind Speed\")\n",
        "plt.xlabel(\"Temperature (°C)\")\n",
        "plt.ylabel(\"Wind Speed (km/h)\")\n",
        "plt.show()\n",
        "# Convert the 'Date' column to a datetime format\n",
        "data['Date'] = pd.to_datetime(data['Date'], format='%d-%m-%Y')\n",
        "# Create a pivot table to reshape the data for the heatmap\n",
        "heatmap_data = data.pivot(index='Location', columns='Date', values='Temperature (°C)')\n",
        "# Create the heatmap using Seaborn\n",
        "plt.figure(figsize=(12, 8))\n",
        "sns.heatmap(heatmap_data, cmap=\"YlGnBu\", annot=True, fmt=\".1f\", linewidths=.5)\n",
        "plt.title(\"Temperature Heatmap\")\n",
        "plt.xlabel(\"Date\")\n",
        "plt.ylabel(\"Location\")\n",
        "plt.show()\n",
        "​\n",
        ""
      ]
    }
  ]
}